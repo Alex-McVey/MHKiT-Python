{
 "cells": [
  {
   "cell_type": "markdown",
   "metadata": {},
   "source": [
    "# MHKiT Tidal Module\n",
    "\n",
    "The following example will familiarize the user with the [MHKiT tidal module](https://mhkit-software.github.io/MHKiT/mhkit-python/api.tidal.html) by stepping through the calculation of the velocity duration curve. The data file used in this example is stored in the [\\\\\\\\MHKiT\\\\\\\\examples\\\\\\\\data](https://github.com/MHKiT-Software/MHKiT-Python/tree/master/examples/data) directory.\n",
    "\n",
    "Start by importing the necessary MHKiT module."
   ]
  },
  {
   "cell_type": "code",
   "execution_count": null,
   "metadata": {},
   "outputs": [],
   "source": [
    "import matplotlib.pyplot as plt\n",
    "from mhkit import tidal\n"
   ]
  },
  {
   "cell_type": "markdown",
   "metadata": {},
   "source": [
    "## Loading Data from NOAA-Currents\n",
    "   \n",
    "This example uses 1 year of data from the NOAA-Currents sites. A map of available currents stations is available at https://tidesandcurrents.noaa.gov/map/. The tidal io module includes two functions to import data: `request_noaa_data` which pulls data from the website, and `read_noaa_json` which loads a JSON file.  The request function can save the JSON file for later use.  \n",
    "\n",
    "For simplicity, this example loads data from a JSON file into a pandas DataFrame.  This data contains 1 year of 6 minute averaged data from the Southampton Shoal Channel LB 6 (Station Number: s08010) in San Francisco Bay. The data includes 6 minute averaged direction [degrees] and speed [cm/s] indexed by time. The DataFrame key names returned by NOAA are 'd' for direction and 's' for speed. Since MHKIT uses SI units, speed is converted to m/s. "
   ]
  },
  {
   "cell_type": "code",
   "execution_count": null,
   "metadata": {},
   "outputs": [],
   "source": [
    "# Load tidal data, South Hampton Shoal LB 6\n",
    "data, metadata = tidal.io.read_noaa_json('data/tidal/s08010.json')\n",
    "\n",
    "# Convert discharge data from cm/s to m/s\n",
    "data.s = data.s / 100\n",
    "\n",
    "# Print data\n",
    "print(data)"
   ]
  },
  {
   "cell_type": "markdown",
   "metadata": {},
   "source": [
    "The data can also be obtained using the function `request_noaa_data` in the tidal IO module. \n",
    "To use this function, we need a station number, parameter type, start date, and end date.\n",
    "The station number can be found on the NOAA tides and currents website linked above. \n",
    "The IEC standard recommends 1 year of 10-minute direction and velocity data. The request function allows users to easily pull any timeframe of data although NOAA limits any one pull to 30 days.\n",
    "\n",
    "The following code, which has been commented out for this demonstration, can be used to pull data from the NOAA website. This function can be used to save data to a JSON for later use."
   ]
  },
  {
   "cell_type": "code",
   "execution_count": null,
   "metadata": {},
   "outputs": [],
   "source": [
    "#data, metadata = tidal.io.request_noaa_data(station='s08010', parameter='currents',\n",
    "#                               start_date='20161101', end_date='20180401',\n",
    "#                               proxy=None, write_json=`data/s08010.json`)"
   ]
  },
  {
   "cell_type": "markdown",
   "metadata": {},
   "source": [
    "## Principal Flow Directions\n",
    "As an initial check on the data, a velocity plot can be created to identify data gaps. To consider the velocity in one of the principal flow directions we apply the `principal_flow_directions` function. This function returns 2 directions (in degrees) corresponding to the flood and ebb directions of the tidal site.  Principal flow directions are calculated based on the highest frequency directions. These directions are often close to 180 degrees apart but are not required to be.\n",
    "\n",
    "The `plot_current_timeseries` function plots velocity in either direction using the speed timeseries. "
   ]
  },
  {
   "cell_type": "code",
   "execution_count": null,
   "metadata": {},
   "outputs": [],
   "source": [
    "# Specify histogram bin width for directions to calculate the principal flow directions \n",
    "width_direction = 1   # in degrees\n",
    "\n",
    "# Compute two principal flow directions\n",
    "direction1, direction2 = tidal.resource.principal_flow_directions(data.d, width_direction)\n",
    "\n",
    "# Set flood and ebb directions based on site knowledge\n",
    "flood = direction1 # Flow into \n",
    "ebb = direction2 # Flow out "
   ]
  },
  {
   "cell_type": "markdown",
   "metadata": {},
   "source": [
    "The time series of current data can be plotted using the `plot_current_timeseries` function, which can include either the flood or ebb directions."
   ]
  },
  {
   "cell_type": "code",
   "execution_count": null,
   "metadata": {},
   "outputs": [],
   "source": [
    "ax = tidal.graphics.plot_current_timeseries(data.d, data.s, flood)"
   ]
  },
  {
   "cell_type": "markdown",
   "metadata": {},
   "source": [
    "The plot above shows missing data for most of early and mid-2017. The IEC standard recommends a minimum of 1 year of 10 minute averaged data (See IEC 201 for full description). For the demonstration, this dataset is sufficient. To look at a specific month we can slice the dataset before passing to the plotting function."
   ]
  },
  {
   "cell_type": "code",
   "execution_count": null,
   "metadata": {},
   "outputs": [],
   "source": [
    "# Slice December of 2017 out of the full dataset\n",
    "dec17_data = data.loc['2017-12-01':'2017-12-31']\n",
    "\n",
    "# Plot December of 2017 as current timeseries\n",
    "ax = tidal.graphics.plot_current_timeseries(dec17_data.d, dec17_data.s, flood)"
   ]
  },
  {
   "cell_type": "markdown",
   "metadata": {},
   "source": [
    "## Joint Probability Distribution\n",
    "\n",
    "Direction and velocity can be viewed as a joint probability distribution on a polar plot. This plot helps visually show the flood and ebb directions and the frequency of particular directional velocities. "
   ]
  },
  {
   "cell_type": "code",
   "execution_count": null,
   "metadata": {},
   "outputs": [],
   "source": [
    "# Set the joint probability bin widths\n",
    "width_direction = 1   # in degrees\n",
    "width_velocity  = 0.1 # in m/s\n",
    "\n",
    "# Plot the joint probability distribution\n",
    "ax = tidal.graphics.plot_joint_probability_distribution(data.d, data.s, \\\n",
    "        width_direction, width_velocity, metadata=metadata, flood=flood, ebb=ebb)"
   ]
  },
  {
   "cell_type": "markdown",
   "metadata": {},
   "source": [
    "## Rose plot\n",
    "\n",
    "A rose plot shows the same information as the joint probability distribution but the probability is now the r-axis, and the velocity is the contour value. As compared to a joint probability distribution plot, a rose plot can be more readable when using larger bins sizes."
   ]
  },
  {
   "cell_type": "code",
   "execution_count": null,
   "metadata": {},
   "outputs": [],
   "source": [
    "# Define bin sizes\n",
    "width_direction = 10   # in degrees\n",
    "width_velocity  = 0.25 # in m/s\n",
    "\n",
    "# Create a rose plot\n",
    "ax = tidal.graphics.plot_rose(data.d, data.s, width_direction, \\\n",
    "          width_velocity, metadata=metadata, flood=flood, ebb=ebb)"
   ]
  },
  {
   "cell_type": "markdown",
   "metadata": {},
   "source": [
    "## Velocity Duration Curve\n",
    "\n",
    "The velocity duration curve shows the probability of achieving a particular velocity value. After computing the exceedance probability, the rank order of velocity values can be plotted as follows."
   ]
  },
  {
   "cell_type": "code",
   "execution_count": null,
   "metadata": {},
   "outputs": [],
   "source": [
    "# Calculate exceedance probability of data\n",
    "data['F'] = tidal.resource.exceedance_probability(data.s)\n",
    "\n",
    "# Plot the velocity duration curve (VDC)\n",
    "ax = tidal.graphics.plot_velocity_duration_curve(data.s, data.F)"
   ]
  },
  {
   "cell_type": "code",
   "execution_count": null,
   "metadata": {},
   "outputs": [],
   "source": [
    "tidal.graphics.tidal_phase_probaility(data.d, data.s, flood, ebb)    "
   ]
  },
  {
   "cell_type": "code",
   "execution_count": null,
   "metadata": {},
   "outputs": [],
   "source": [
    "tidal.graphics.tidal_phase_exceedance(data.d, data.s, flood, ebb)"
   ]
  },
  {
   "cell_type": "code",
   "execution_count": null,
   "metadata": {},
   "outputs": [],
   "source": []
  },
  {
   "cell_type": "code",
   "execution_count": null,
   "metadata": {},
   "outputs": [],
   "source": []
  }
 ],
 "metadata": {
  "kernelspec": {
   "display_name": "Python 3",
   "language": "python",
   "name": "python3"
  },
  "language_info": {
   "codemirror_mode": {
    "name": "ipython",
    "version": 3
   },
   "file_extension": ".py",
   "mimetype": "text/x-python",
   "name": "python",
   "nbconvert_exporter": "python",
   "pygments_lexer": "ipython3",
   "version": "3.8.5"
  }
 },
 "nbformat": 4,
 "nbformat_minor": 4
}
